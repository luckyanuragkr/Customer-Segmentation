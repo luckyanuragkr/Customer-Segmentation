{
  "nbformat": 4,
  "nbformat_minor": 0,
  "metadata": {
    "colab": {
      "provenance": []
    },
    "kernelspec": {
      "name": "python3",
      "display_name": "Python 3"
    },
    "language_info": {
      "name": "python"
    }
  },
  "cells": [
    {
      "cell_type": "markdown",
      "metadata": {
        "id": "MTIXrkCYKtlu"
      },
      "source": [
        "Importing the Dependencies"
      ]
    },
    {
      "cell_type": "markdown",
      "source": [
        "# Project Problem Statement: Customer Segmentation Using K-Means and DBSCAN Clustering\n",
        "\n",
        "**Background & Motivation:**\n",
        "Customer segmentation is a crucial process in marketing and business strategy, allowing companies to understand and categorize their customers based on purchasing behavior, demographics, and spending patterns. Traditional segmentation techniques often rely on predefined categories, but machine learning techniques like K-Means and DBSCAN provide data-driven segmentation that can uncover hidden patterns.\n",
        "\n",
        "**Problem Statement:**\n",
        "The goal of this project is to implement and compare two clustering techniques, K-Means and DBSCAN, for customer segmentation based on spending patterns and annual income. The primary challenges include:\n",
        "\n",
        "Identifying optimal customer groups that can help businesses tailor their marketing strategies.\n",
        "\n",
        "Evaluating the effectiveness of K-Means vs. DBSCAN in segmenting customers.\n",
        "\n",
        "Detecting outliers (anomalous customers) who do not fit into standard spending patterns.\n",
        "\n",
        "Assessing the clustering performance using metrics like Silhouette Score and visualizations.\n",
        "\n",
        "**Project Scope:**\n",
        "\n",
        "Dataset: The project utilizes customer data of a mall containing attributes such as Gender,Age,\tAnnual Income and Spending Score.\n",
        "\n",
        "**Clustering Methods**:\n",
        "K-Means Clustering (suitable for well-separated clusters)\n",
        "DBSCAN Clustering (capable of detecting outliers and irregularly shaped clusters)\n",
        "\n",
        "**Evaluation Metrics:**\n",
        "Silhouette Score for measuring clustering quality.\n",
        "Visualization techniques to interpret customer segments.\n",
        "\n",
        "**Business Insights**:\n",
        "Understanding different customer groups based on spending behavior.\n",
        "Identifying potential high-value customers and budget-conscious consumers.\n",
        "Developing targeted marketing strategies based on segmented groups.\n",
        "\n",
        "**Expected Outcomes:**\n",
        "A well-defined customer segmentation model using K-Means and DBSCAN.\n",
        "\n",
        "Comparative analysis of clustering performance and business implications.\n",
        "\n",
        "Recommendations for businesses to leverage customer segmentation insights for marketing and product positioning."
      ],
      "metadata": {
        "id": "q3qbXSGAj_do"
      }
    },
    {
      "cell_type": "code",
      "metadata": {
        "id": "mL7HLYQFXW-c"
      },
      "source": [
        "import numpy as np\n",
        "import pandas as pd\n",
        "import matplotlib.pyplot as plt\n",
        "import seaborn as sns\n",
        "from sklearn.cluster import KMeans"
      ],
      "execution_count": null,
      "outputs": []
    },
    {
      "cell_type": "markdown",
      "metadata": {
        "id": "KigjC6mBLJN3"
      },
      "source": [
        "Data Collection & Analysis"
      ]
    },
    {
      "cell_type": "code",
      "metadata": {
        "id": "gTSFo2LiLIav"
      },
      "source": [
        "# loading the data from csv file to a Pandas DataFrame\n",
        "customer_data = pd.read_csv('/content/Mall_Customers.csv')"
      ],
      "execution_count": null,
      "outputs": []
    },
    {
      "cell_type": "code",
      "metadata": {
        "colab": {
          "base_uri": "https://localhost:8080/",
          "height": 196
        },
        "id": "mbtjztN3Lhcu",
        "outputId": "4b5e3ec9-1784-4918-bece-7616a2305e4b"
      },
      "source": [
        "# first 5 rows in the dataframe\n",
        "customer_data.head()"
      ],
      "execution_count": null,
      "outputs": [
        {
          "output_type": "execute_result",
          "data": {
            "text/html": [
              "<div>\n",
              "<style scoped>\n",
              "    .dataframe tbody tr th:only-of-type {\n",
              "        vertical-align: middle;\n",
              "    }\n",
              "\n",
              "    .dataframe tbody tr th {\n",
              "        vertical-align: top;\n",
              "    }\n",
              "\n",
              "    .dataframe thead th {\n",
              "        text-align: right;\n",
              "    }\n",
              "</style>\n",
              "<table border=\"1\" class=\"dataframe\">\n",
              "  <thead>\n",
              "    <tr style=\"text-align: right;\">\n",
              "      <th></th>\n",
              "      <th>CustomerID</th>\n",
              "      <th>Gender</th>\n",
              "      <th>Age</th>\n",
              "      <th>Annual Income (k$)</th>\n",
              "      <th>Spending Score (1-100)</th>\n",
              "    </tr>\n",
              "  </thead>\n",
              "  <tbody>\n",
              "    <tr>\n",
              "      <th>0</th>\n",
              "      <td>1</td>\n",
              "      <td>Male</td>\n",
              "      <td>19</td>\n",
              "      <td>15</td>\n",
              "      <td>39</td>\n",
              "    </tr>\n",
              "    <tr>\n",
              "      <th>1</th>\n",
              "      <td>2</td>\n",
              "      <td>Male</td>\n",
              "      <td>21</td>\n",
              "      <td>15</td>\n",
              "      <td>81</td>\n",
              "    </tr>\n",
              "    <tr>\n",
              "      <th>2</th>\n",
              "      <td>3</td>\n",
              "      <td>Female</td>\n",
              "      <td>20</td>\n",
              "      <td>16</td>\n",
              "      <td>6</td>\n",
              "    </tr>\n",
              "    <tr>\n",
              "      <th>3</th>\n",
              "      <td>4</td>\n",
              "      <td>Female</td>\n",
              "      <td>23</td>\n",
              "      <td>16</td>\n",
              "      <td>77</td>\n",
              "    </tr>\n",
              "    <tr>\n",
              "      <th>4</th>\n",
              "      <td>5</td>\n",
              "      <td>Female</td>\n",
              "      <td>31</td>\n",
              "      <td>17</td>\n",
              "      <td>40</td>\n",
              "    </tr>\n",
              "  </tbody>\n",
              "</table>\n",
              "</div>"
            ],
            "text/plain": [
              "   CustomerID  Gender  Age  Annual Income (k$)  Spending Score (1-100)\n",
              "0           1    Male   19                  15                      39\n",
              "1           2    Male   21                  15                      81\n",
              "2           3  Female   20                  16                       6\n",
              "3           4  Female   23                  16                      77\n",
              "4           5  Female   31                  17                      40"
            ]
          },
          "metadata": {
            "tags": []
          },
          "execution_count": 3
        }
      ]
    },
    {
      "cell_type": "code",
      "metadata": {
        "colab": {
          "base_uri": "https://localhost:8080/"
        },
        "id": "-NWZTDNRLofr",
        "outputId": "5cdb9e6b-20f2-4676-da6c-014dc7b3a38e"
      },
      "source": [
        "# finding the number of rows and columns\n",
        "customer_data.shape"
      ],
      "execution_count": null,
      "outputs": [
        {
          "output_type": "execute_result",
          "data": {
            "text/plain": [
              "(200, 5)"
            ]
          },
          "metadata": {
            "tags": []
          },
          "execution_count": 4
        }
      ]
    },
    {
      "cell_type": "code",
      "metadata": {
        "colab": {
          "base_uri": "https://localhost:8080/"
        },
        "id": "K5qKxwHiL56b",
        "outputId": "ce5ec885-f107-493a-ecb7-42170d1fd7d5"
      },
      "source": [
        "# getting some informations about the dataset\n",
        "customer_data.info()"
      ],
      "execution_count": null,
      "outputs": [
        {
          "output_type": "stream",
          "text": [
            "<class 'pandas.core.frame.DataFrame'>\n",
            "RangeIndex: 200 entries, 0 to 199\n",
            "Data columns (total 5 columns):\n",
            " #   Column                  Non-Null Count  Dtype \n",
            "---  ------                  --------------  ----- \n",
            " 0   CustomerID              200 non-null    int64 \n",
            " 1   Gender                  200 non-null    object\n",
            " 2   Age                     200 non-null    int64 \n",
            " 3   Annual Income (k$)      200 non-null    int64 \n",
            " 4   Spending Score (1-100)  200 non-null    int64 \n",
            "dtypes: int64(4), object(1)\n",
            "memory usage: 7.9+ KB\n"
          ],
          "name": "stdout"
        }
      ]
    },
    {
      "cell_type": "code",
      "metadata": {
        "colab": {
          "base_uri": "https://localhost:8080/",
          "height": 240
        },
        "id": "vBtCZvyFMI1O",
        "outputId": "fc3554ff-b2d4-467f-d3c6-c9a435792952"
      },
      "source": [
        "# checking for missing values\n",
        "customer_data.isnull().sum()"
      ],
      "execution_count": 7,
      "outputs": [
        {
          "output_type": "execute_result",
          "data": {
            "text/plain": [
              "CustomerID                0\n",
              "Gender                    0\n",
              "Age                       0\n",
              "Annual Income (k$)        0\n",
              "Spending Score (1-100)    0\n",
              "dtype: int64"
            ],
            "text/html": [
              "<div>\n",
              "<style scoped>\n",
              "    .dataframe tbody tr th:only-of-type {\n",
              "        vertical-align: middle;\n",
              "    }\n",
              "\n",
              "    .dataframe tbody tr th {\n",
              "        vertical-align: top;\n",
              "    }\n",
              "\n",
              "    .dataframe thead th {\n",
              "        text-align: right;\n",
              "    }\n",
              "</style>\n",
              "<table border=\"1\" class=\"dataframe\">\n",
              "  <thead>\n",
              "    <tr style=\"text-align: right;\">\n",
              "      <th></th>\n",
              "      <th>0</th>\n",
              "    </tr>\n",
              "  </thead>\n",
              "  <tbody>\n",
              "    <tr>\n",
              "      <th>CustomerID</th>\n",
              "      <td>0</td>\n",
              "    </tr>\n",
              "    <tr>\n",
              "      <th>Gender</th>\n",
              "      <td>0</td>\n",
              "    </tr>\n",
              "    <tr>\n",
              "      <th>Age</th>\n",
              "      <td>0</td>\n",
              "    </tr>\n",
              "    <tr>\n",
              "      <th>Annual Income (k$)</th>\n",
              "      <td>0</td>\n",
              "    </tr>\n",
              "    <tr>\n",
              "      <th>Spending Score (1-100)</th>\n",
              "      <td>0</td>\n",
              "    </tr>\n",
              "  </tbody>\n",
              "</table>\n",
              "</div><br><label><b>dtype:</b> int64</label>"
            ]
          },
          "metadata": {},
          "execution_count": 7
        }
      ]
    },
    {
      "cell_type": "markdown",
      "metadata": {
        "id": "mDtt8uP0MoiH"
      },
      "source": [
        "Choosing the Annual Income Column & Spending Score column"
      ]
    },
    {
      "cell_type": "code",
      "metadata": {
        "id": "-GZMLhdvMXv5"
      },
      "source": [
        "X = customer_data.iloc[:,[3,4]].values"
      ],
      "execution_count": 8,
      "outputs": []
    },
    {
      "cell_type": "code",
      "metadata": {
        "colab": {
          "base_uri": "https://localhost:8080/"
        },
        "id": "5vpIqX5qNHEB",
        "outputId": "3e279ce1-977a-4fcf-c6e2-d6d58b5413f0"
      },
      "source": [
        "print(X)"
      ],
      "execution_count": 9,
      "outputs": [
        {
          "output_type": "stream",
          "name": "stdout",
          "text": [
            "[[ 15  39]\n",
            " [ 15  81]\n",
            " [ 16   6]\n",
            " [ 16  77]\n",
            " [ 17  40]\n",
            " [ 17  76]\n",
            " [ 18   6]\n",
            " [ 18  94]\n",
            " [ 19   3]\n",
            " [ 19  72]\n",
            " [ 19  14]\n",
            " [ 19  99]\n",
            " [ 20  15]\n",
            " [ 20  77]\n",
            " [ 20  13]\n",
            " [ 20  79]\n",
            " [ 21  35]\n",
            " [ 21  66]\n",
            " [ 23  29]\n",
            " [ 23  98]\n",
            " [ 24  35]\n",
            " [ 24  73]\n",
            " [ 25   5]\n",
            " [ 25  73]\n",
            " [ 28  14]\n",
            " [ 28  82]\n",
            " [ 28  32]\n",
            " [ 28  61]\n",
            " [ 29  31]\n",
            " [ 29  87]\n",
            " [ 30   4]\n",
            " [ 30  73]\n",
            " [ 33   4]\n",
            " [ 33  92]\n",
            " [ 33  14]\n",
            " [ 33  81]\n",
            " [ 34  17]\n",
            " [ 34  73]\n",
            " [ 37  26]\n",
            " [ 37  75]\n",
            " [ 38  35]\n",
            " [ 38  92]\n",
            " [ 39  36]\n",
            " [ 39  61]\n",
            " [ 39  28]\n",
            " [ 39  65]\n",
            " [ 40  55]\n",
            " [ 40  47]\n",
            " [ 40  42]\n",
            " [ 40  42]\n",
            " [ 42  52]\n",
            " [ 42  60]\n",
            " [ 43  54]\n",
            " [ 43  60]\n",
            " [ 43  45]\n",
            " [ 43  41]\n",
            " [ 44  50]\n",
            " [ 44  46]\n",
            " [ 46  51]\n",
            " [ 46  46]\n",
            " [ 46  56]\n",
            " [ 46  55]\n",
            " [ 47  52]\n",
            " [ 47  59]\n",
            " [ 48  51]\n",
            " [ 48  59]\n",
            " [ 48  50]\n",
            " [ 48  48]\n",
            " [ 48  59]\n",
            " [ 48  47]\n",
            " [ 49  55]\n",
            " [ 49  42]\n",
            " [ 50  49]\n",
            " [ 50  56]\n",
            " [ 54  47]\n",
            " [ 54  54]\n",
            " [ 54  53]\n",
            " [ 54  48]\n",
            " [ 54  52]\n",
            " [ 54  42]\n",
            " [ 54  51]\n",
            " [ 54  55]\n",
            " [ 54  41]\n",
            " [ 54  44]\n",
            " [ 54  57]\n",
            " [ 54  46]\n",
            " [ 57  58]\n",
            " [ 57  55]\n",
            " [ 58  60]\n",
            " [ 58  46]\n",
            " [ 59  55]\n",
            " [ 59  41]\n",
            " [ 60  49]\n",
            " [ 60  40]\n",
            " [ 60  42]\n",
            " [ 60  52]\n",
            " [ 60  47]\n",
            " [ 60  50]\n",
            " [ 61  42]\n",
            " [ 61  49]\n",
            " [ 62  41]\n",
            " [ 62  48]\n",
            " [ 62  59]\n",
            " [ 62  55]\n",
            " [ 62  56]\n",
            " [ 62  42]\n",
            " [ 63  50]\n",
            " [ 63  46]\n",
            " [ 63  43]\n",
            " [ 63  48]\n",
            " [ 63  52]\n",
            " [ 63  54]\n",
            " [ 64  42]\n",
            " [ 64  46]\n",
            " [ 65  48]\n",
            " [ 65  50]\n",
            " [ 65  43]\n",
            " [ 65  59]\n",
            " [ 67  43]\n",
            " [ 67  57]\n",
            " [ 67  56]\n",
            " [ 67  40]\n",
            " [ 69  58]\n",
            " [ 69  91]\n",
            " [ 70  29]\n",
            " [ 70  77]\n",
            " [ 71  35]\n",
            " [ 71  95]\n",
            " [ 71  11]\n",
            " [ 71  75]\n",
            " [ 71   9]\n",
            " [ 71  75]\n",
            " [ 72  34]\n",
            " [ 72  71]\n",
            " [ 73   5]\n",
            " [ 73  88]\n",
            " [ 73   7]\n",
            " [ 73  73]\n",
            " [ 74  10]\n",
            " [ 74  72]\n",
            " [ 75   5]\n",
            " [ 75  93]\n",
            " [ 76  40]\n",
            " [ 76  87]\n",
            " [ 77  12]\n",
            " [ 77  97]\n",
            " [ 77  36]\n",
            " [ 77  74]\n",
            " [ 78  22]\n",
            " [ 78  90]\n",
            " [ 78  17]\n",
            " [ 78  88]\n",
            " [ 78  20]\n",
            " [ 78  76]\n",
            " [ 78  16]\n",
            " [ 78  89]\n",
            " [ 78   1]\n",
            " [ 78  78]\n",
            " [ 78   1]\n",
            " [ 78  73]\n",
            " [ 79  35]\n",
            " [ 79  83]\n",
            " [ 81   5]\n",
            " [ 81  93]\n",
            " [ 85  26]\n",
            " [ 85  75]\n",
            " [ 86  20]\n",
            " [ 86  95]\n",
            " [ 87  27]\n",
            " [ 87  63]\n",
            " [ 87  13]\n",
            " [ 87  75]\n",
            " [ 87  10]\n",
            " [ 87  92]\n",
            " [ 88  13]\n",
            " [ 88  86]\n",
            " [ 88  15]\n",
            " [ 88  69]\n",
            " [ 93  14]\n",
            " [ 93  90]\n",
            " [ 97  32]\n",
            " [ 97  86]\n",
            " [ 98  15]\n",
            " [ 98  88]\n",
            " [ 99  39]\n",
            " [ 99  97]\n",
            " [101  24]\n",
            " [101  68]\n",
            " [103  17]\n",
            " [103  85]\n",
            " [103  23]\n",
            " [103  69]\n",
            " [113   8]\n",
            " [113  91]\n",
            " [120  16]\n",
            " [120  79]\n",
            " [126  28]\n",
            " [126  74]\n",
            " [137  18]\n",
            " [137  83]]\n"
          ]
        }
      ]
    },
    {
      "cell_type": "markdown",
      "metadata": {
        "id": "LUHCVZWVNVb5"
      },
      "source": [
        "Choosing the number of clusters"
      ]
    },
    {
      "cell_type": "markdown",
      "metadata": {
        "id": "25tFwgnZNiRF"
      },
      "source": [
        "WCSS  ->  Within Clusters Sum of Squares"
      ]
    },
    {
      "cell_type": "code",
      "metadata": {
        "id": "LywIm4NDNIG1"
      },
      "source": [
        "# finding wcss value for different number of clusters\n",
        "\n",
        "wcss = []\n",
        "\n",
        "for i in range(1,11):\n",
        "  kmeans = KMeans(n_clusters=i, init='k-means++', random_state=42)\n",
        "  kmeans.fit(X)\n",
        "\n",
        "  wcss.append(kmeans.inertia_)"
      ],
      "execution_count": 10,
      "outputs": []
    },
    {
      "cell_type": "code",
      "source": [],
      "metadata": {
        "id": "AOHz6mgpfGqF"
      },
      "execution_count": null,
      "outputs": []
    },
    {
      "cell_type": "code",
      "metadata": {
        "colab": {
          "base_uri": "https://localhost:8080/",
          "height": 480
        },
        "id": "1rWLIgxJPXI_",
        "outputId": "3c7e41b4-8162-4d75-d3f8-f81f993ecf78"
      },
      "source": [
        "# plot an elbow graph\n",
        "\n",
        "sns.set()\n",
        "plt.plot(range(1,11), wcss)\n",
        "plt.title('The Elbow Point Graph')\n",
        "plt.xlabel('Number of Clusters')\n",
        "plt.ylabel('WCSS')\n",
        "plt.show()"
      ],
      "execution_count": 11,
      "outputs": [
        {
          "output_type": "display_data",
          "data": {
            "text/plain": [
              "<Figure size 640x480 with 1 Axes>"
            ],
            "image/png": "[encoded data removed]"
          },
          "metadata": {}
        }
      ]
    },
    {
      "cell_type": "markdown",
      "metadata": {
        "id": "ifedd9_gQC4x"
      },
      "source": [
        "Upon closely analyzing the Elbow Method graph, the optimal number of clusters appears to be **3 or 5**.\n",
        "\n",
        "Reasoning:\n",
        "The elbow point is where the Within-Cluster Sum of Squares (WCSS) starts to level off significantly.\n",
        "The first **noticeable drop in WCSS occurs at K = 3**, which suggests that three clusters provide a** significant reduction in variance**.\n",
        "However, there is **another noticeable bend around K = 5**, indicating that adding two more clusters might provide **a better segmentation without excessive complexity.**\n",
        "Beyond K = 5, the reduction in WCSS becomes less significant, implying that additional clusters do not contribute substantially to improved clustering.\n",
        "Final Conclusion:\n",
        "The optimal number of clusters is likely either 3 or 5, depending on the level of granularity required. If a **more generalized segmentation is preferred, K = 3** is suitable. If **finer segmentation is necessary, K = 5** may be a better choice."
      ]
    },
    {
      "cell_type": "markdown",
      "metadata": {
        "id": "J3DiuWPtQKnU"
      },
      "source": [
        "# **Training the k-Means Clustering Model**"
      ]
    },
    {
      "cell_type": "code",
      "metadata": {
        "colab": {
          "base_uri": "https://localhost:8080/"
        },
        "id": "-5S3HwLpPy3h",
        "outputId": "8d2c4819-dfac-43af-ab40-3e14f469359e"
      },
      "source": [
        "kmeans = KMeans(n_clusters=5, init='k-means++', random_state=0)\n",
        "\n",
        "# return a label for each data point based on their cluster\n",
        "Y = kmeans.fit_predict(X)\n",
        "\n",
        "print(Y)"
      ],
      "execution_count": 12,
      "outputs": [
        {
          "output_type": "stream",
          "name": "stdout",
          "text": [
            "[3 4 3 4 3 4 3 4 3 4 3 4 3 4 3 4 3 4 3 4 3 4 3 4 3 4 3 4 3 4 3 4 3 4 3 4 3\n",
            " 4 3 4 3 4 3 0 3 4 0 0 0 0 0 0 0 0 0 0 0 0 0 0 0 0 0 0 0 0 0 0 0 0 0 0 0 0\n",
            " 0 0 0 0 0 0 0 0 0 0 0 0 0 0 0 0 0 0 0 0 0 0 0 0 0 0 0 0 0 0 0 0 0 0 0 0 0\n",
            " 0 0 0 0 0 0 0 0 0 0 0 0 1 2 1 0 1 2 1 2 1 0 1 2 1 2 1 2 1 2 1 0 1 2 1 2 1\n",
            " 2 1 2 1 2 1 2 1 2 1 2 1 2 1 2 1 2 1 2 1 2 1 2 1 2 1 2 1 2 1 2 1 2 1 2 1 2\n",
            " 1 2 1 2 1 2 1 2 1 2 1 2 1 2 1]\n"
          ]
        }
      ]
    },
    {
      "cell_type": "markdown",
      "metadata": {
        "id": "ehXD5VrDSyuB"
      },
      "source": [
        "5 Clusters -  0, 1, 2, 3, 4"
      ]
    },
    {
      "cell_type": "markdown",
      "metadata": {
        "id": "AfFa2VDQRNcK"
      },
      "source": [
        "# **Visualizing all the Clusters**"
      ]
    },
    {
      "cell_type": "code",
      "metadata": {
        "colab": {
          "base_uri": "https://localhost:8080/",
          "height": 727
        },
        "id": "Tl_Obm0aQ_cU",
        "outputId": "26e513a6-ad8a-4561-aae0-65be83122a4e"
      },
      "source": [
        "# plotting all the clusters and their Centroids\n",
        "\n",
        "plt.figure(figsize=(8,8))\n",
        "plt.scatter(X[Y==0,0], X[Y==0,1], s=50, c='green', label='Cluster 1')\n",
        "plt.scatter(X[Y==1,0], X[Y==1,1], s=50, c='red', label='Cluster 2')\n",
        "plt.scatter(X[Y==2,0], X[Y==2,1], s=50, c='yellow', label='Cluster 3')\n",
        "plt.scatter(X[Y==3,0], X[Y==3,1], s=50, c='violet', label='Cluster 4')\n",
        "plt.scatter(X[Y==4,0], X[Y==4,1], s=50, c='blue', label='Cluster 5')\n",
        "\n",
        "# plot the centroids\n",
        "plt.scatter(kmeans.cluster_centers_[:,0], kmeans.cluster_centers_[:,1], s=100, c='cyan', label='Centroids')\n",
        "\n",
        "plt.title('Customer Groups')\n",
        "plt.xlabel('Annual Income')\n",
        "plt.ylabel('Spending Score')\n",
        "plt.show()"
      ],
      "execution_count": 13,
      "outputs": [
        {
          "output_type": "display_data",
          "data": {
            "text/plain": [
              "<Figure size 800x800 with 1 Axes>"
            ],
            "image/png": "[encoded data removed]"
          },
          "metadata": {}
        }
      ]
    },
    {
      "cell_type": "code",
      "source": [],
      "metadata": {
        "id": "qhVafvnNdoZn"
      },
      "execution_count": null,
      "outputs": []
    },
    {
      "cell_type": "markdown",
      "source": [
        "# **Final Conclusion from the K-Means Clustering Visualization:**\n",
        "The scatter plot represents the segmentation of customers based on Annual Income and Spending Score, using K-Means clustering with five clusters. The analysis suggests the following customer groups:\n",
        "\n",
        "**High Income - High Spending (Red Cluster)**\n",
        ": Customers with high annual income and high spending score.\n",
        "These are the premium customers who spend significantly despite having a high income.\n",
        "Marketing Strategy: Focus on loyalty programs, premium product recommendations, and exclusive offers.\n",
        "\n",
        "**Low Income - High Spending (Blue Cluster**)\n",
        ":Customers with low income but high spending score.\n",
        "Likely to be young customers or brand-loyal shoppers who prioritize spending despite limited earnings.\n",
        "Marketing Strategy: Attract with discounts, installment plans, and budget-friendly product bundles.\n",
        "\n",
        "**Mid Income - Average Spending (Green Cluster)**:\n",
        "Customers with mid-range income and average spending score.\n",
        "Represents a balanced segment that spends cautiously based on income.\n",
        "Marketing Strategy: Targeted promotions based on past purchase behavior and seasonal offers.\n",
        "\n",
        "**High Income - Low Spending (Yellow Cluster)**\n",
        ":Customers with high income but low spending score.\n",
        "May prefer saving over spending or need incentives to increase their spending.\n",
        "Marketing Strategy: Personalized deals, premium product trials, and membership discounts.\n",
        "\n",
        "**Low Income - Low Spending (Purple Cluster)**:\n",
        "Customers with low income and low spending score.\n",
        "These customers have limited purchasing power and engage minimally.\n",
        "Marketing Strategy: Engage through budget-friendly options, referral programs, and small-ticket purchases.\n"
      ],
      "metadata": {
        "id": "eVIqmcHcdrwc"
      }
    },
    {
      "cell_type": "markdown",
      "source": [
        "\n",
        "# **Business Insights:**\n",
        "The **red** and blue clusters are the most valuable in terms of spending behavior.\n",
        "The **yellow cluster presents an opportunity**—these customers have money but need incentives to spend.\n",
        "The **green cluster represents a stable market**, while the **purple cluster is the least engaged.**"
      ],
      "metadata": {
        "id": "_tU5Vil9eL6r"
      }
    },
    {
      "cell_type": "code",
      "metadata": {
        "id": "OjWc3GPiUFBm",
        "colab": {
          "base_uri": "https://localhost:8080/"
        },
        "outputId": "20aafd30-8af3-4d28-be19-b9c511bcda93"
      },
      "source": [
        "# Import necessary libraries\n",
        "from sklearn.metrics import silhouette_score\n",
        "\n",
        "# Assuming X is the dataset used for clustering\n",
        "# Fit KMeans with 5 clusters (as per the visualization)\n",
        "kmeans = KMeans(n_clusters=5, init='k-means++', random_state=0)\n",
        "Y = kmeans.fit_predict(X)\n",
        "\n",
        "# Compute the Silhouette Score\n",
        "silhouette_avg = silhouette_score(X, Y)\n",
        "silhouette_avg\n"
      ],
      "execution_count": 14,
      "outputs": [
        {
          "output_type": "execute_result",
          "data": {
            "text/plain": [
              "0.553931997444648"
            ]
          },
          "metadata": {},
          "execution_count": 14
        }
      ]
    },
    {
      "cell_type": "markdown",
      "source": [
        "**A Silhouette Score of 0.55 indicates a moderately good clustering performance**\n",
        "\n",
        "Moderate clustering quality → The clusters are reasonably well-defined but may have some overlap.\n",
        "There is some separation between clusters, but a few data points might be closer to multiple clusters, making them harder to classify.\n",
        "This is a **decent Silhouette Score for real-world clustering**, but there might still be room for improvement.\n",
        "\n",
        "The Silhouette Score ranges from -1 to 1:\n",
        "\n",
        "1 → Clusters are well-separated and compact.\n",
        "\n",
        "0 → Clusters are overlapping, meaning they are not well-separated.\n",
        "\n",
        "Negative values → Some points may be assigned to the wrong clusters."
      ],
      "metadata": {
        "id": "5vaNjhx7eeIW"
      }
    },
    {
      "cell_type": "code",
      "source": [
        "from sklearn.cluster import DBSCAN\n",
        "from sklearn.preprocessing import StandardScaler\n",
        "\n",
        "# Feature Scaling (important for DBSCAN)\n",
        "scaler = StandardScaler()\n",
        "X_scaled = scaler.fit_transform(X)\n",
        "\n",
        "# Experiment with different eps and min_samples values\n",
        "# Adjusted parameters to potentially create more clusters\n",
        "dbscan = DBSCAN(eps=0.3, min_samples=5)  # Adjusted values\n",
        "\n",
        "# Fit the model to the scaled data\n",
        "Y_dbscan = dbscan.fit_predict(X_scaled)\n",
        "\n",
        "# Check the number of unique cluster labels (excluding noise -1)\n",
        "n_clusters = len(set(Y_dbscan)) - (1 if -1 in Y_dbscan else 0)\n",
        "\n",
        "# Evaluating the clustering using the silhouette score if n_clusters > 1\n",
        "if n_clusters > 1:\n",
        "    silhouette_avg_dbscan = silhouette_score(X_scaled, Y_dbscan)\n",
        "    print(f\"Silhouette Score for DBSCAN: {silhouette_avg_dbscan}\")\n",
        "else:\n",
        "    print(\"DBSCAN resulted in only one cluster or all noise. Silhouette Score cannot be calculated.\")\n",
        "\n",
        "\n",
        "\n",
        "# Visualizing the clusters\n",
        "plt.figure(figsize=(8,8))\n",
        "unique_labels = set(Y_dbscan)\n",
        "for label in unique_labels:\n",
        "    if label == -1: # Mark outliers with black color\n",
        "      color = 'black'  # Keep 'black' as a string\n",
        "      marker = '*'\n",
        "    else:\n",
        "      color = plt.cm.Spectral(label / len(unique_labels)) #Assign color based on cluster ID\n",
        "      marker = 'o'\n",
        "\n",
        "    class_member_mask = (Y_dbscan == label)\n",
        "    # core_samples_mask is not defined, using class_member_mask instead.\n",
        "    xy = X[class_member_mask]\n",
        "    # Pass color directly to markerfacecolor and markeredgecolor if it's a string\n",
        "    # Otherwise, convert it to a tuple as before\n",
        "    plt.plot(xy[:, 0], xy[:, 1], marker,\n",
        "             markerfacecolor=color if isinstance(color, str) else tuple(color),\n",
        "             markeredgecolor=color if isinstance(color, str) else tuple(color),\n",
        "             markersize=10)\n",
        "\n",
        "plt.title('Customer Groups using DBSCAN')\n",
        "plt.xlabel('Annual Income')\n",
        "plt.ylabel('Spending Score')\n",
        "plt.show()"
      ],
      "metadata": {
        "colab": {
          "base_uri": "https://localhost:8080/",
          "height": 744
        },
        "id": "nmxvLyiAfxKw",
        "outputId": "15ae5b98-8968-410e-83a2-a038c402b87d"
      },
      "execution_count": 19,
      "outputs": [
        {
          "output_type": "stream",
          "name": "stdout",
          "text": [
            "Silhouette Score for DBSCAN: 0.31614121976731185\n"
          ]
        },
        {
          "output_type": "display_data",
          "data": {
            "text/plain": [
              "<Figure size 800x800 with 1 Axes>"
            ],
            "image/png": "[encoded data removed]"
          },
          "metadata": {}
        }
      ]
    },
    {
      "cell_type": "markdown",
      "source": [
        "# **Final Conclusion from DBSCAN Clustering Visualization (Silhouette Score: 0.32)**\n",
        "\n",
        "Observations from the DBSCAN Clustering:\n",
        "Core Clusters Identified:\n",
        "\n",
        "The visualization shows multiple color-coded clusters, indicating that DBSCAN successfully grouped densely packed customer segments.\n",
        "The** black stars represent outliers/noise points that were not assigned to any cluster.**\n",
        "Presence of Outliers:\n",
        "\n",
        "Unlike K-Means,** DBSCAN is effective at identifying outliers**, as seen in the black star-marked data points.\n",
        "\n",
        "These could represent unusual customer behaviors, such as:\n",
        "High-income individuals with erratic spending.\n",
        "Low-income individuals making occasional large purchases.\n",
        "Lower Silhouette Score (0.32):\n",
        "\n",
        "**A silhouette score of 0.32 suggests weaker clustering quality than K-Means (which had 0.55).**\n",
        "\n",
        "The lower score may indicate overlapping clusters, or DBSCAN struggling to differentiate distinct customer segments effectively.\n",
        "\n",
        "Comparison with K-Means:\n",
        "**K-Means (Silhouette Score: 0.55)**\n",
        "\n",
        "Formed well-separated, compact clusters.\n",
        "No explicit handling of outliers.\n",
        "Performed well in segmenting customers based on spending patterns.\n",
        "\n",
        "**DBSCAN (Silhouette Score: 0.32)**\n",
        "\n",
        "Successfully detected outliers.\n",
        "Formed irregularly shaped clusters, which may be more realistic but less clearly separated.\n",
        "Struggled with overlapping data points, reducing clustering quality.\n"
      ],
      "metadata": {
        "id": "0jHWu5cgg-IX"
      }
    },
    {
      "cell_type": "code",
      "source": [],
      "metadata": {
        "id": "spogUXbof4X8"
      },
      "execution_count": null,
      "outputs": []
    },
    {
      "cell_type": "markdown",
      "source": [
        "## **Final Verdict:**\n",
        "If outlier detection is important, DBSCAN is useful.\n",
        "If compact and well-defined clusters are preferred, K-Means is the better choice.\n",
        "\n"
      ],
      "metadata": {
        "id": "aWEAPws1ipoK"
      }
    },
    {
      "cell_type": "code",
      "source": [],
      "metadata": {
        "id": "b6aOgzM6i2kD"
      },
      "execution_count": 19,
      "outputs": []
    }
  ]
}